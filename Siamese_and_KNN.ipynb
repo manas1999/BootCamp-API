{
  "cells": [
    {
      "cell_type": "markdown",
      "metadata": {
        "id": "view-in-github",
        "colab_type": "text"
      },
      "source": [
        "<a href=\"https://colab.research.google.com/github/manas1999/BootCamp-API/blob/main/Siamese_and_KNN.ipynb\" target=\"_parent\"><img src=\"https://colab.research.google.com/assets/colab-badge.svg\" alt=\"Open In Colab\"/></a>"
      ]
    },
    {
      "cell_type": "code",
      "execution_count": 18,
      "metadata": {
        "id": "ym61ivqJSVlV"
      },
      "outputs": [],
      "source": [
        "import matplotlib.pyplot as plt\n",
        "from scipy.io import wavfile as wav\n",
        "from scipy.fftpack import fft\n",
        "import numpy as np\n",
        "import wave\n",
        "from scipy.signal import butter, sosfilt, sosfreqz,freqz\n",
        "from scipy.fft import fft, fftfreq\n",
        "from scipy.fft import rfft, rfftfreq\n",
        "from scipy.fft import irfft\n",
        "import librosa\n",
        "import numpy as np\n",
        "import pandas as pd\n",
        "from librosa import display\n",
        "import tensorflow as tf\n",
        "from keras.layers import Input\n",
        "from keras.layers import InputLayer, Conv1D, Dense, Flatten, MaxPool1D\n",
        "from keras.models import Sequential\n",
        "from keras.models import Model, load_model, Sequential\n",
        "from keras.layers import Input, Dense, InputLayer, Conv2D, MaxPooling2D, UpSampling2D, InputLayer, Concatenate, Flatten, Reshape, Lambda, Embedding, dot\n",
        "from keras.models import Model, load_model, Sequential\n",
        "import matplotlib.pyplot as plt\n",
        "import keras.backend as K\n",
        "from sklearn.model_selection import train_test_split\n",
        "import os, sys\n",
        "import tensorflow as tf\n",
        "from keras.utils.vis_utils import plot_model"
      ]
    },
    {
      "cell_type": "code",
      "source": [
        "from google.colab import drive\n",
        "drive.mount('/content/drive')"
      ],
      "metadata": {
        "id": "EcJeTmEwpZsE",
        "colab": {
          "base_uri": "https://localhost:8080/"
        },
        "outputId": "00069288-0ce7-4a3e-a12d-77bcfde9e2a4"
      },
      "execution_count": 2,
      "outputs": [
        {
          "output_type": "stream",
          "name": "stdout",
          "text": [
            "Mounted at /content/drive\n"
          ]
        }
      ]
    },
    {
      "cell_type": "code",
      "execution_count": 3,
      "metadata": {
        "colab": {
          "base_uri": "https://localhost:8080/",
          "height": 317
        },
        "id": "kqX4ytBcTXga",
        "outputId": "aadae827-464d-4f1b-9d17-fee73c58a62c"
      },
      "outputs": [
        {
          "output_type": "execute_result",
          "data": {
            "text/plain": [
              "         Unnamed: 0       S1     S2   S1.1    S2.1    S1.2    S2.2    S1.3  \\\n",
              "0  201102081321.aif  10021.0  20759  35075   47244   62992   73729   88761   \n",
              "1  201102260502.aif      NaN  11526  27941   42197   58163   71278   88955   \n",
              "2  201103090635.aif   5366.0  17632  31432   44464   59030   71296   86629   \n",
              "3  201103140132.aif  16358.0  29272  89539  105036  128282  142057  170469   \n",
              "4  201103140822.aif   3444.0  18080  44770   58545   84374   98149  123977   \n",
              "\n",
              "     S2.3    S1.4  ...  S2.14  S1.15  S2.15  S1.16  S2.16  S1.17  S2.17  \\\n",
              "0  101646  115246  ...    NaN    NaN    NaN    NaN    NaN    NaN    NaN   \n",
              "1  102641  122028  ...    NaN    NaN    NaN    NaN    NaN    NaN    NaN   \n",
              "2   99661  116527  ...    NaN    NaN    NaN    NaN    NaN    NaN    NaN   \n",
              "3  183383  207490  ...    NaN    NaN    NaN    NaN    NaN    NaN    NaN   \n",
              "4  134309  157555  ...    NaN    NaN    NaN    NaN    NaN    NaN    NaN   \n",
              "\n",
              "   S1.18  S2.18  Unnamed: 39  \n",
              "0    NaN    NaN          NaN  \n",
              "1    NaN    NaN          NaN  \n",
              "2    NaN    NaN          NaN  \n",
              "3    NaN    NaN          NaN  \n",
              "4    NaN    NaN          NaN  \n",
              "\n",
              "[5 rows x 40 columns]"
            ],
            "text/html": [
              "\n",
              "  <div id=\"df-3e8ba96a-6ded-45e2-893c-83d783abbceb\">\n",
              "    <div class=\"colab-df-container\">\n",
              "      <div>\n",
              "<style scoped>\n",
              "    .dataframe tbody tr th:only-of-type {\n",
              "        vertical-align: middle;\n",
              "    }\n",
              "\n",
              "    .dataframe tbody tr th {\n",
              "        vertical-align: top;\n",
              "    }\n",
              "\n",
              "    .dataframe thead th {\n",
              "        text-align: right;\n",
              "    }\n",
              "</style>\n",
              "<table border=\"1\" class=\"dataframe\">\n",
              "  <thead>\n",
              "    <tr style=\"text-align: right;\">\n",
              "      <th></th>\n",
              "      <th>Unnamed: 0</th>\n",
              "      <th>S1</th>\n",
              "      <th>S2</th>\n",
              "      <th>S1.1</th>\n",
              "      <th>S2.1</th>\n",
              "      <th>S1.2</th>\n",
              "      <th>S2.2</th>\n",
              "      <th>S1.3</th>\n",
              "      <th>S2.3</th>\n",
              "      <th>S1.4</th>\n",
              "      <th>...</th>\n",
              "      <th>S2.14</th>\n",
              "      <th>S1.15</th>\n",
              "      <th>S2.15</th>\n",
              "      <th>S1.16</th>\n",
              "      <th>S2.16</th>\n",
              "      <th>S1.17</th>\n",
              "      <th>S2.17</th>\n",
              "      <th>S1.18</th>\n",
              "      <th>S2.18</th>\n",
              "      <th>Unnamed: 39</th>\n",
              "    </tr>\n",
              "  </thead>\n",
              "  <tbody>\n",
              "    <tr>\n",
              "      <th>0</th>\n",
              "      <td>201102081321.aif</td>\n",
              "      <td>10021.0</td>\n",
              "      <td>20759</td>\n",
              "      <td>35075</td>\n",
              "      <td>47244</td>\n",
              "      <td>62992</td>\n",
              "      <td>73729</td>\n",
              "      <td>88761</td>\n",
              "      <td>101646</td>\n",
              "      <td>115246</td>\n",
              "      <td>...</td>\n",
              "      <td>NaN</td>\n",
              "      <td>NaN</td>\n",
              "      <td>NaN</td>\n",
              "      <td>NaN</td>\n",
              "      <td>NaN</td>\n",
              "      <td>NaN</td>\n",
              "      <td>NaN</td>\n",
              "      <td>NaN</td>\n",
              "      <td>NaN</td>\n",
              "      <td>NaN</td>\n",
              "    </tr>\n",
              "    <tr>\n",
              "      <th>1</th>\n",
              "      <td>201102260502.aif</td>\n",
              "      <td>NaN</td>\n",
              "      <td>11526</td>\n",
              "      <td>27941</td>\n",
              "      <td>42197</td>\n",
              "      <td>58163</td>\n",
              "      <td>71278</td>\n",
              "      <td>88955</td>\n",
              "      <td>102641</td>\n",
              "      <td>122028</td>\n",
              "      <td>...</td>\n",
              "      <td>NaN</td>\n",
              "      <td>NaN</td>\n",
              "      <td>NaN</td>\n",
              "      <td>NaN</td>\n",
              "      <td>NaN</td>\n",
              "      <td>NaN</td>\n",
              "      <td>NaN</td>\n",
              "      <td>NaN</td>\n",
              "      <td>NaN</td>\n",
              "      <td>NaN</td>\n",
              "    </tr>\n",
              "    <tr>\n",
              "      <th>2</th>\n",
              "      <td>201103090635.aif</td>\n",
              "      <td>5366.0</td>\n",
              "      <td>17632</td>\n",
              "      <td>31432</td>\n",
              "      <td>44464</td>\n",
              "      <td>59030</td>\n",
              "      <td>71296</td>\n",
              "      <td>86629</td>\n",
              "      <td>99661</td>\n",
              "      <td>116527</td>\n",
              "      <td>...</td>\n",
              "      <td>NaN</td>\n",
              "      <td>NaN</td>\n",
              "      <td>NaN</td>\n",
              "      <td>NaN</td>\n",
              "      <td>NaN</td>\n",
              "      <td>NaN</td>\n",
              "      <td>NaN</td>\n",
              "      <td>NaN</td>\n",
              "      <td>NaN</td>\n",
              "      <td>NaN</td>\n",
              "    </tr>\n",
              "    <tr>\n",
              "      <th>3</th>\n",
              "      <td>201103140132.aif</td>\n",
              "      <td>16358.0</td>\n",
              "      <td>29272</td>\n",
              "      <td>89539</td>\n",
              "      <td>105036</td>\n",
              "      <td>128282</td>\n",
              "      <td>142057</td>\n",
              "      <td>170469</td>\n",
              "      <td>183383</td>\n",
              "      <td>207490</td>\n",
              "      <td>...</td>\n",
              "      <td>NaN</td>\n",
              "      <td>NaN</td>\n",
              "      <td>NaN</td>\n",
              "      <td>NaN</td>\n",
              "      <td>NaN</td>\n",
              "      <td>NaN</td>\n",
              "      <td>NaN</td>\n",
              "      <td>NaN</td>\n",
              "      <td>NaN</td>\n",
              "      <td>NaN</td>\n",
              "    </tr>\n",
              "    <tr>\n",
              "      <th>4</th>\n",
              "      <td>201103140822.aif</td>\n",
              "      <td>3444.0</td>\n",
              "      <td>18080</td>\n",
              "      <td>44770</td>\n",
              "      <td>58545</td>\n",
              "      <td>84374</td>\n",
              "      <td>98149</td>\n",
              "      <td>123977</td>\n",
              "      <td>134309</td>\n",
              "      <td>157555</td>\n",
              "      <td>...</td>\n",
              "      <td>NaN</td>\n",
              "      <td>NaN</td>\n",
              "      <td>NaN</td>\n",
              "      <td>NaN</td>\n",
              "      <td>NaN</td>\n",
              "      <td>NaN</td>\n",
              "      <td>NaN</td>\n",
              "      <td>NaN</td>\n",
              "      <td>NaN</td>\n",
              "      <td>NaN</td>\n",
              "    </tr>\n",
              "  </tbody>\n",
              "</table>\n",
              "<p>5 rows × 40 columns</p>\n",
              "</div>\n",
              "      <button class=\"colab-df-convert\" onclick=\"convertToInteractive('df-3e8ba96a-6ded-45e2-893c-83d783abbceb')\"\n",
              "              title=\"Convert this dataframe to an interactive table.\"\n",
              "              style=\"display:none;\">\n",
              "        \n",
              "  <svg xmlns=\"http://www.w3.org/2000/svg\" height=\"24px\"viewBox=\"0 0 24 24\"\n",
              "       width=\"24px\">\n",
              "    <path d=\"M0 0h24v24H0V0z\" fill=\"none\"/>\n",
              "    <path d=\"M18.56 5.44l.94 2.06.94-2.06 2.06-.94-2.06-.94-.94-2.06-.94 2.06-2.06.94zm-11 1L8.5 8.5l.94-2.06 2.06-.94-2.06-.94L8.5 2.5l-.94 2.06-2.06.94zm10 10l.94 2.06.94-2.06 2.06-.94-2.06-.94-.94-2.06-.94 2.06-2.06.94z\"/><path d=\"M17.41 7.96l-1.37-1.37c-.4-.4-.92-.59-1.43-.59-.52 0-1.04.2-1.43.59L10.3 9.45l-7.72 7.72c-.78.78-.78 2.05 0 2.83L4 21.41c.39.39.9.59 1.41.59.51 0 1.02-.2 1.41-.59l7.78-7.78 2.81-2.81c.8-.78.8-2.07 0-2.86zM5.41 20L4 18.59l7.72-7.72 1.47 1.35L5.41 20z\"/>\n",
              "  </svg>\n",
              "      </button>\n",
              "      \n",
              "  <style>\n",
              "    .colab-df-container {\n",
              "      display:flex;\n",
              "      flex-wrap:wrap;\n",
              "      gap: 12px;\n",
              "    }\n",
              "\n",
              "    .colab-df-convert {\n",
              "      background-color: #E8F0FE;\n",
              "      border: none;\n",
              "      border-radius: 50%;\n",
              "      cursor: pointer;\n",
              "      display: none;\n",
              "      fill: #1967D2;\n",
              "      height: 32px;\n",
              "      padding: 0 0 0 0;\n",
              "      width: 32px;\n",
              "    }\n",
              "\n",
              "    .colab-df-convert:hover {\n",
              "      background-color: #E2EBFA;\n",
              "      box-shadow: 0px 1px 2px rgba(60, 64, 67, 0.3), 0px 1px 3px 1px rgba(60, 64, 67, 0.15);\n",
              "      fill: #174EA6;\n",
              "    }\n",
              "\n",
              "    [theme=dark] .colab-df-convert {\n",
              "      background-color: #3B4455;\n",
              "      fill: #D2E3FC;\n",
              "    }\n",
              "\n",
              "    [theme=dark] .colab-df-convert:hover {\n",
              "      background-color: #434B5C;\n",
              "      box-shadow: 0px 1px 3px 1px rgba(0, 0, 0, 0.15);\n",
              "      filter: drop-shadow(0px 1px 2px rgba(0, 0, 0, 0.3));\n",
              "      fill: #FFFFFF;\n",
              "    }\n",
              "  </style>\n",
              "\n",
              "      <script>\n",
              "        const buttonEl =\n",
              "          document.querySelector('#df-3e8ba96a-6ded-45e2-893c-83d783abbceb button.colab-df-convert');\n",
              "        buttonEl.style.display =\n",
              "          google.colab.kernel.accessAllowed ? 'block' : 'none';\n",
              "\n",
              "        async function convertToInteractive(key) {\n",
              "          const element = document.querySelector('#df-3e8ba96a-6ded-45e2-893c-83d783abbceb');\n",
              "          const dataTable =\n",
              "            await google.colab.kernel.invokeFunction('convertToInteractive',\n",
              "                                                     [key], {});\n",
              "          if (!dataTable) return;\n",
              "\n",
              "          const docLinkHtml = 'Like what you see? Visit the ' +\n",
              "            '<a target=\"_blank\" href=https://colab.research.google.com/notebooks/data_table.ipynb>data table notebook</a>'\n",
              "            + ' to learn more about interactive tables.';\n",
              "          element.innerHTML = '';\n",
              "          dataTable['output_type'] = 'display_data';\n",
              "          await google.colab.output.renderOutput(dataTable, element);\n",
              "          const docLink = document.createElement('div');\n",
              "          docLink.innerHTML = docLinkHtml;\n",
              "          element.appendChild(docLink);\n",
              "        }\n",
              "      </script>\n",
              "    </div>\n",
              "  </div>\n",
              "  "
            ]
          },
          "metadata": {},
          "execution_count": 3
        }
      ],
      "source": [
        "temp = pd.read_csv('/content/drive/MyDrive/Intern/Data Heart Beat/Atraining_normal_seg.csv')\n",
        "temp.head()"
      ]
    },
    {
      "cell_type": "code",
      "execution_count": 4,
      "metadata": {
        "id": "lMTB-O1bTiFB"
      },
      "outputs": [],
      "source": [
        "def butter_bandpass(data,lowcut, highcut, fs, order=5):\n",
        "        nyq = 0.5 * fs\n",
        "        low = lowcut / nyq\n",
        "        high = highcut / nyq\n",
        "        sos = butter(order, [low, high], analog=False, btype='band', output='sos')\n",
        "        y = sosfilt(sos, data)\n",
        "        return y"
      ]
    },
    {
      "cell_type": "code",
      "execution_count": 5,
      "metadata": {
        "id": "OikN0FQeTyQj"
      },
      "outputs": [],
      "source": [
        "wav2 = wave.open('/content/drive/MyDrive/Intern/Data Heart Beat/total data/sample_300.wav')\n",
        "data, rate = librosa.load('/content/drive/MyDrive/Intern/Data Heart Beat/total data/sample_300.wav' )\n",
        "\n",
        "##filtering Process \n",
        "fs = wav2.getframerate() ######################################### >>>>>>>>>>>>>>>>>>>>>>MISTAKE\n",
        "T = wav2.getnframes()/wav2.getframerate()\n",
        "N = nsamples = int(T * fs)\n",
        "t = np.linspace(0, T, nsamples, endpoint=False)\n",
        "\n",
        "\n",
        "lowcut = 20.0\n",
        "highcut = 250.0\n",
        "# create training data\n",
        "data_x = []\n",
        "data_y = []\n",
        "for j in range(temp.shape[0]):\n",
        "   data, sampling_rate = librosa.load('/content/drive/MyDrive/Intern/Data Heart Beat/Atraining_normal/'+ temp.iloc[j, 0].split('.')[0] +'.wav', sr=44100 )\n",
        "   data = butter_bandpass(data,lowcut,highcut,fs)\n",
        "   for i in range(1, temp.shape[1] - 1):\n",
        "     try: \n",
        "       temp_data = data[int(temp.iloc[j, i]):int(temp.iloc[j, i+1])]\n",
        "       temp_label = temp.iloc[:, i].name.split('.')[0]\n",
        " \n",
        "       data_x.append(temp_data)\n",
        "       data_y.append(temp_label)\n",
        "     except:\n",
        "       pass"
      ]
    },
    {
      "cell_type": "code",
      "execution_count": 6,
      "metadata": {
        "id": "SJipi8nrT_KM"
      },
      "outputs": [],
      "source": [
        "from keras.preprocessing.sequence import pad_sequences\n",
        "\n",
        "data_x = pad_sequences(data_x, maxlen=20000, dtype='float', padding='post', truncating='post', value=0.)\n",
        "\n",
        "data_x = data_x / np.max(data_x)"
      ]
    },
    {
      "cell_type": "code",
      "execution_count": 7,
      "metadata": {
        "id": "DoevPUxmUCAB"
      },
      "outputs": [],
      "source": [
        "data_x = data_x[:,:,np.newaxis]\n",
        "data_y = pd.Series(data_y)\n",
        "data_y.value_counts()\n",
        "\n",
        "data_y = data_y.map({'S1':0, 'S2':1}).values"
      ]
    },
    {
      "cell_type": "code",
      "execution_count": 8,
      "metadata": {
        "colab": {
          "base_uri": "https://localhost:8080/"
        },
        "id": "PmjGnajpUmxy",
        "outputId": "713abe6f-b90a-490a-fdee-9a060906775c"
      },
      "outputs": [
        {
          "output_type": "stream",
          "name": "stdout",
          "text": [
            "(369, 20000, 1)\n"
          ]
        }
      ],
      "source": [
        "print(data_x.shape)"
      ]
    },
    {
      "cell_type": "code",
      "execution_count": 9,
      "metadata": {
        "id": "xvC0VLsjRZkw"
      },
      "outputs": [],
      "source": [
        "Set_X1 = []\n",
        "Set_X2 = []\n",
        "Set_Y = []\n",
        "for i in range(int(data_x.shape[0]/5)):\n",
        "  for j in range(int(data_x.shape[0]/5)):\n",
        "    if(i!= j):\n",
        "      Set_X1.append(data_x[i])\n",
        "      Set_X2.append(data_x[j])\n",
        "      if(data_y[i] == data_y[j] and data_y[i] == 1):\n",
        "        Set_Y.append(1)\n",
        "      else :\n",
        "        Set_Y.append(0)\n",
        "  "
      ]
    },
    {
      "cell_type": "code",
      "execution_count": 10,
      "metadata": {
        "colab": {
          "base_uri": "https://localhost:8080/"
        },
        "id": "2Hta6VgGGR0O",
        "outputId": "c15e02ac-3fa9-4b79-fda1-d4a8e7414c88"
      },
      "outputs": [
        {
          "output_type": "stream",
          "name": "stdout",
          "text": [
            "(5256,)\n",
            "(20000, 1)\n"
          ]
        }
      ],
      "source": [
        "print(np.shape(Set_Y))\n",
        "input_shape=data_x.shape[1:]\n",
        "print(input_shape)\n"
      ]
    },
    {
      "cell_type": "markdown",
      "metadata": {
        "id": "GyMmaInTINFF"
      },
      "source": [
        "**Siamese Network**"
      ]
    },
    {
      "cell_type": "code",
      "execution_count": 11,
      "metadata": {
        "id": "ElY1Js-1IMqk"
      },
      "outputs": [],
      "source": [
        "# Train autoencoder and save encoder model and encodings\n",
        "def train_color_encoder(X1, X2, set_Y) :\n",
        "\n",
        "\n",
        "\n",
        "    # Color Encoder\n",
        "    input_layer = Input(data_x.shape[1:])\n",
        "    layer1 = Conv1D(filters=50,kernel_size = 10, activation='relu', padding='same')(input_layer)\n",
        "    layer2 = MaxPool1D(strides=8, padding='same')(layer1)\n",
        "    layer3 = Conv1D(filters=50,kernel_size = 10, activation='relu', padding='same')(layer2)\n",
        "    layer4 = MaxPool1D(strides=8, padding='same')(layer3)\n",
        "    layer5 = Flatten()(layer4)\n",
        "    embeddings = Dense(256, activation=None)(layer5)\n",
        "    norm_embeddings = tf.nn.l2_normalize(embeddings, axis=-1)\n",
        "\n",
        "\n",
        "    # Create model\n",
        "    model = Model(inputs=input_layer, outputs=norm_embeddings)\n",
        "\n",
        "\n",
        "    # Create siamese model\n",
        "    input1 = Input(data_x.shape[1:])\n",
        "    input2 = Input(data_x.shape[1:])\n",
        "\n",
        "    # Create left and right twin models\n",
        "    left_model = model(input1)\n",
        "    right_model = model(input2)\n",
        "\n",
        "\n",
        "    # Dot product layer\n",
        "    dot_product = dot([left_model, right_model], axes=1, normalize=False)\n",
        "\n",
        "    siamese_model = Model(inputs=[input1, input2], outputs=dot_product)\n",
        "\n",
        "    # Model summary \n",
        "    print(siamese_model.summary())\n",
        "\n",
        "    # Compile model    \n",
        "    siamese_model.compile(optimizer='adam', loss= 'binary_crossentropy',metrics=['accuracy'])#loss= 'mse'\n",
        " \n",
        "    # Plot flowchart fo model\n",
        "    #plot_model(siamese_model, to_file=os.getcwd()+'/siamese_model_mnist.png', show_shapes=1, show_layer_names=1)\n",
        "\n",
        "\n",
        "    # Fit model\n",
        "    siamese_model.fit([set_X1, set_X2], set_Y, epochs=3, batch_size=16, shuffle=True, verbose=True)\n",
        "\n",
        "    #model.save(os.getcwd()+\"/color_encoder.h5\")\n",
        "    #siamese_model.save(os.getcwd()+\"/color_siamese_model.h5\")\n",
        "\n",
        "    return model, siamese_model"
      ]
    },
    {
      "cell_type": "code",
      "source": [
        "def create_model():\n",
        "    input_layer = Input(data_x.shape[1:])\n",
        "    layer1 = Conv1D(filters=50,kernel_size = 10, activation='relu', padding='same')(input_layer)\n",
        "    layer2 = MaxPool1D(strides=8, padding='same')(layer1)\n",
        "    layer3 = Conv1D(filters=50,kernel_size = 10, activation='relu', padding='same')(layer2)\n",
        "    layer4 = MaxPool1D(strides=8, padding='same')(layer3)\n",
        "    layer5 = Flatten()(layer4)\n",
        "    embeddings = Dense(256, activation=None)(layer5)\n",
        "    norm_embeddings = tf.nn.l2_normalize(embeddings, axis=-1)\n",
        "\n",
        "\n",
        "\n",
        "    model = Model(inputs=input_layer, outputs=norm_embeddings)\n",
        "\n",
        "    input1 = Input(data_x.shape[1:])\n",
        "    input2 = Input(data_x.shape[1:])\n",
        "\n",
        "    # Create left and right twin models\n",
        "    left_model = model(input1)\n",
        "    right_model = model(input2)\n",
        "\n",
        "\n",
        "    # Dot product layer\n",
        "    dot_product = dot([left_model, right_model], axes=1, normalize=False)\n",
        "\n",
        "    siamese_model = Model(inputs=[input1, input2], outputs=dot_product)\n",
        "    return siamese_model"
      ],
      "metadata": {
        "id": "vAs3ev5ItWNl"
      },
      "execution_count": 32,
      "outputs": []
    },
    {
      "cell_type": "code",
      "execution_count": 12,
      "metadata": {
        "colab": {
          "base_uri": "https://localhost:8080/"
        },
        "id": "pvZVseUxMaDW",
        "outputId": "2f469b6a-8935-4495-fe44-34218f329e66"
      },
      "outputs": [
        {
          "output_type": "stream",
          "name": "stdout",
          "text": [
            "Model: \"model_1\"\n",
            "__________________________________________________________________________________________________\n",
            " Layer (type)                   Output Shape         Param #     Connected to                     \n",
            "==================================================================================================\n",
            " input_2 (InputLayer)           [(None, 20000, 1)]   0           []                               \n",
            "                                                                                                  \n",
            " input_3 (InputLayer)           [(None, 20000, 1)]   0           []                               \n",
            "                                                                                                  \n",
            " model (Functional)             (None, 256)          4032256     ['input_2[0][0]',                \n",
            "                                                                  'input_3[0][0]']                \n",
            "                                                                                                  \n",
            " dot (Dot)                      (None, 1)            0           ['model[0][0]',                  \n",
            "                                                                  'model[1][0]']                  \n",
            "                                                                                                  \n",
            "==================================================================================================\n",
            "Total params: 4,032,256\n",
            "Trainable params: 4,032,256\n",
            "Non-trainable params: 0\n",
            "__________________________________________________________________________________________________\n",
            "None\n",
            "Epoch 1/3\n",
            "329/329 [==============================] - 240s 723ms/step - loss: 0.5068 - accuracy: 0.8529\n",
            "Epoch 2/3\n",
            "329/329 [==============================] - 239s 726ms/step - loss: 0.0206 - accuracy: 0.9996\n",
            "Epoch 3/3\n",
            "329/329 [==============================] - 242s 737ms/step - loss: 0.0141 - accuracy: 1.0000\n"
          ]
        }
      ],
      "source": [
        "set_X1 = np.array(Set_X1)\n",
        "set_X2 = np.array(Set_X2)\n",
        "set_Y = np.array(Set_Y)\n",
        "\n",
        "#np.split(set_X1, 5)\n",
        "#np.split(set_X2, 5)\n",
        "#np.split(set_Y, 5)\n",
        "model, siamese_model = train_color_encoder(set_X1, set_X2, set_Y)"
      ]
    },
    {
      "cell_type": "markdown",
      "metadata": {
        "id": "VmMKi3oc_17x"
      },
      "source": [
        "Test Siamese"
      ]
    },
    {
      "cell_type": "code",
      "execution_count": 13,
      "metadata": {
        "colab": {
          "base_uri": "https://localhost:8080/"
        },
        "id": "q__Oan993rAj",
        "outputId": "3f4ddfe2-9e6a-4784-9272-4adbe4da6e33"
      },
      "outputs": [
        {
          "output_type": "stream",
          "name": "stdout",
          "text": [
            "(20000, 1)\n"
          ]
        }
      ],
      "source": [
        "print(Set_X1[0].shape)"
      ]
    },
    {
      "cell_type": "code",
      "source": [
        "# Load the TensorBoard notebook extension.\n",
        "%load_ext tensorboard"
      ],
      "metadata": {
        "id": "sfJ5HRXL_YPT"
      },
      "execution_count": 14,
      "outputs": []
    },
    {
      "cell_type": "code",
      "source": [
        "from datetime import datetime\n",
        "from packaging import version"
      ],
      "metadata": {
        "id": "XHR9NAlt_b_X"
      },
      "execution_count": 15,
      "outputs": []
    },
    {
      "cell_type": "code",
      "source": [
        "# The function to be traced.\n",
        "@tf.function\n",
        "def my_func(x, y):\n",
        "  # A simple hand-rolled layer.\n",
        "  return tf.nn.relu(tf.matmul(x, y))\n",
        "\n",
        "# Set up logging.\n",
        "stamp = datetime.now().strftime(\"%Y%m%d-%H%M%S\")\n",
        "logdir = 'logs/func/%s' % stamp\n",
        "writer = tf.summary.create_file_writer(logdir)\n",
        "\n",
        "# Sample data for your function.\n",
        "x = tf.random.uniform((3, 3))\n",
        "y = tf.random.uniform((3, 3))\n",
        "\n",
        "# Bracket the function call with\n",
        "# tf.summary.trace_on() and tf.summary.trace_export().\n",
        "tf.summary.trace_on(graph=True, profiler=True)\n",
        "# Call only one tf.function when tracing.\n",
        "z = my_func(x, y)\n",
        "with writer.as_default():\n",
        "  tf.summary.trace_export(\n",
        "      name=\"my_func_trace\",\n",
        "      step=0,\n",
        "      profiler_outdir=logdir)"
      ],
      "metadata": {
        "colab": {
          "base_uri": "https://localhost:8080/"
        },
        "id": "BxZqU-9M_Pbv",
        "outputId": "0991b590-ee64-47e5-cf50-b267f5c7c881"
      },
      "execution_count": 16,
      "outputs": [
        {
          "output_type": "stream",
          "name": "stdout",
          "text": [
            "WARNING:tensorflow:From /usr/local/lib/python3.7/dist-packages/tensorflow/python/ops/summary_ops_v2.py:1307: start (from tensorflow.python.eager.profiler) is deprecated and will be removed after 2020-07-01.\n",
            "Instructions for updating:\n",
            "use `tf.profiler.experimental.start` instead.\n",
            "WARNING:tensorflow:From /usr/local/lib/python3.7/dist-packages/tensorflow/python/ops/summary_ops_v2.py:1358: stop (from tensorflow.python.eager.profiler) is deprecated and will be removed after 2020-07-01.\n",
            "Instructions for updating:\n",
            "use `tf.profiler.experimental.stop` instead.\n",
            "WARNING:tensorflow:From /usr/local/lib/python3.7/dist-packages/tensorflow/python/ops/summary_ops_v2.py:1358: save (from tensorflow.python.eager.profiler) is deprecated and will be removed after 2020-07-01.\n",
            "Instructions for updating:\n",
            "`tf.python.eager.profiler` has deprecated, use `tf.profiler` instead.\n",
            "WARNING:tensorflow:From /usr/local/lib/python3.7/dist-packages/tensorflow/python/eager/profiler.py:150: maybe_create_event_file (from tensorflow.python.eager.profiler) is deprecated and will be removed after 2020-07-01.\n",
            "Instructions for updating:\n",
            "`tf.python.eager.profiler` has deprecated, use `tf.profiler` instead.\n"
          ]
        }
      ]
    },
    {
      "cell_type": "code",
      "source": [
        "Set2_X1 = []\n",
        "Set2_X2 = []\n",
        "Set2_Y = []\n",
        "for i in range(1*int(data_x.shape[0]/5),2*int(data_x.shape[0]/5)):\n",
        "  for j in range(1*int(data_x.shape[0]/5),2*int(data_x.shape[0]/5)):\n",
        "    if(i!= j):\n",
        "      Set2_X1.append(data_x[i])\n",
        "      Set2_X2.append(data_x[j])\n",
        "      if(data_y[i] == data_y[j] and data_y[i] == 1):\n",
        "        Set2_Y.append(1)\n",
        "      else :\n",
        "        Set2_Y.append(0)\n",
        "\n",
        "set2_X1 = np.array(Set2_X1)\n",
        "set2_X2 = np.array(Set2_X2)\n",
        "set2_Y = np.array(Set2_Y)"
      ],
      "metadata": {
        "id": "vdxtwqSaK4Br"
      },
      "execution_count": 13,
      "outputs": []
    },
    {
      "cell_type": "code",
      "source": [
        "#siamese_model.compile(optimizer='adam', loss= 'binary_crossentropy',metrics=['accuracy'])#loss= 'mse'\n",
        "siamese_model.fit([set2_X1, set2_X2], set2_Y, epochs=1, batch_size=16, shuffle=True, verbose=True)"
      ],
      "metadata": {
        "colab": {
          "base_uri": "https://localhost:8080/"
        },
        "id": "f6rfh-7MLsAn",
        "outputId": "891cf0c8-005c-4a72-d81e-0be086921f2d"
      },
      "execution_count": 14,
      "outputs": [
        {
          "output_type": "stream",
          "name": "stdout",
          "text": [
            "329/329 [==============================] - 240s 729ms/step - loss: 0.5166 - accuracy: 0.8605\n"
          ]
        },
        {
          "output_type": "execute_result",
          "data": {
            "text/plain": [
              "<keras.callbacks.History at 0x7f673a9b4610>"
            ]
          },
          "metadata": {},
          "execution_count": 14
        }
      ]
    },
    {
      "cell_type": "code",
      "source": [
        "Set3_X1 = []\n",
        "Set3_X2 = []\n",
        "Set3_Y = []\n",
        "for i in range(2*int(data_x.shape[0]/5),3*int(data_x.shape[0]/5)):\n",
        "  for j in range(2*int(data_x.shape[0]/5),3*int(data_x.shape[0]/5)):\n",
        "    if(i!= j):\n",
        "      Set3_X1.append(data_x[i])\n",
        "      Set3_X2.append(data_x[j])\n",
        "      if(data_y[i] == data_y[j] and data_y[i] == 1):\n",
        "        Set3_Y.append(1)\n",
        "      else :\n",
        "        Set3_Y.append(0)\n",
        "\n",
        "\n",
        "set3_X1 = np.array(Set3_X1)\n",
        "set3_X2 = np.array(Set3_X2)\n",
        "set3_Y = np.array(Set3_Y)"
      ],
      "metadata": {
        "id": "9h9OLAqdLQAw"
      },
      "execution_count": 15,
      "outputs": []
    },
    {
      "cell_type": "code",
      "source": [
        "#siamese_model.compile(optimizer='adam', loss= 'binary_crossentropy',metrics=['accuracy'])#loss= 'mse'\n",
        "siamese_model.fit([set3_X1, set3_X2], set3_Y, epochs=1, batch_size=16, shuffle=True, verbose=True)"
      ],
      "metadata": {
        "colab": {
          "base_uri": "https://localhost:8080/"
        },
        "id": "zLEmns6nP6XP",
        "outputId": "c7f7a0cf-d329-4600-aa54-335f11c79b75"
      },
      "execution_count": 17,
      "outputs": [
        {
          "output_type": "stream",
          "name": "stdout",
          "text": [
            "329/329 [==============================] - 251s 762ms/step - loss: 0.1491 - accuracy: 0.9608\n"
          ]
        },
        {
          "output_type": "execute_result",
          "data": {
            "text/plain": [
              "<keras.callbacks.History at 0x7f673c195710>"
            ]
          },
          "metadata": {},
          "execution_count": 17
        }
      ]
    },
    {
      "cell_type": "code",
      "source": [
        "Set4_X1 = []\n",
        "Set4_X2 = []\n",
        "Set4_Y = []\n",
        "for i in range(3*int(data_x.shape[0]/5),4*int(data_x.shape[0]/5)):\n",
        "  for j in range(3*int(data_x.shape[0]/5),4*int(data_x.shape[0]/5)):\n",
        "    if(i!= j):\n",
        "      Set4_X1.append(data_x[i])\n",
        "      Set4_X2.append(data_x[j])\n",
        "      if(data_y[i] == data_y[j] and data_y[i] == 1):\n",
        "        Set4_Y.append(1)\n",
        "      else :\n",
        "        Set4_Y.append(0)\n",
        "set4_X1 = np.array(Set4_X1)\n",
        "set4_X2 = np.array(Set4_X2)\n",
        "set4_Y = np.array(Set4_Y)"
      ],
      "metadata": {
        "id": "MJGddXCQLWkf"
      },
      "execution_count": 19,
      "outputs": []
    },
    {
      "cell_type": "code",
      "execution_count": 20,
      "metadata": {
        "id": "ZAO6WR5J_p43",
        "colab": {
          "base_uri": "https://localhost:8080/"
        },
        "outputId": "bb4ce85c-5a68-4db3-e74e-b822fdd17124"
      },
      "outputs": [
        {
          "output_type": "stream",
          "name": "stdout",
          "text": [
            "329/329 [==============================] - 247s 752ms/step - loss: 0.1086 - accuracy: 0.9631\n"
          ]
        },
        {
          "output_type": "execute_result",
          "data": {
            "text/plain": [
              "<keras.callbacks.History at 0x7f67d6bf9350>"
            ]
          },
          "metadata": {},
          "execution_count": 20
        }
      ],
      "source": [
        "siamese_model.fit([set4_X1, set4_X2], set4_Y, epochs=1, batch_size=16, shuffle=True, verbose=True)"
      ]
    },
    {
      "cell_type": "code",
      "source": [
        "Set5_X1 = []\n",
        "Set5_X2 = []\n",
        "Set5_Y = []\n",
        "for i in range(4*int(data_x.shape[0]/5),9*int(data_x.shape[0]/10)):\n",
        "  for j in range(4*int(data_x.shape[0]/5),9*int(data_x.shape[0]/10)):\n",
        "    if(i!= j):\n",
        "      Set5_X1.append(data_x[i])\n",
        "      Set5_X2.append(data_x[j])\n",
        "      if(data_y[i] == data_y[j] and data_y[i] == 1):\n",
        "        Set5_Y.append(1)\n",
        "      else :\n",
        "        Set5_Y.append(0)\n",
        "set5_X1 = np.array(Set5_X1)\n",
        "set5_X2 = np.array(Set5_X2)\n",
        "set5_Y = np.array(Set5_Y)"
      ],
      "metadata": {
        "id": "MPnVqrMBpcA7"
      },
      "execution_count": 29,
      "outputs": []
    },
    {
      "cell_type": "code",
      "source": [
        "siamese_model.fit([set5_X1, set5_X2], set5_Y, epochs=1, batch_size=16, shuffle=True, verbose=True)"
      ],
      "metadata": {
        "colab": {
          "base_uri": "https://localhost:8080/"
        },
        "id": "MjTsy9jlsOPN",
        "outputId": "145a0d96-537c-4f7e-8e49-8f78e63964de"
      },
      "execution_count": 30,
      "outputs": [
        {
          "output_type": "stream",
          "name": "stdout",
          "text": [
            "62/62 [==============================] - 46s 720ms/step - loss: 0.1113 - accuracy: 0.9718\n"
          ]
        },
        {
          "output_type": "execute_result",
          "data": {
            "text/plain": [
              "<keras.callbacks.History at 0x7f673bcf1690>"
            ]
          },
          "metadata": {},
          "execution_count": 30
        }
      ]
    },
    {
      "cell_type": "code",
      "source": [
        "# Save the weights\n",
        "siamese_model.save_weights('./checkpoints/siamese_checkpoint')\n",
        "\n",
        "# Create a new model instance\n",
        "model = create_model()\n",
        "\n",
        "# Restore the weights\n",
        "model.load_weights('./checkpoints/siamese_checkpoint')\n"
      ],
      "metadata": {
        "colab": {
          "base_uri": "https://localhost:8080/"
        },
        "id": "CiUjNpLKsxzP",
        "outputId": "160d3713-5be3-4175-a840-ebfe24f29e8a"
      },
      "execution_count": 33,
      "outputs": [
        {
          "output_type": "execute_result",
          "data": {
            "text/plain": [
              "<tensorflow.python.training.tracking.util.CheckpointLoadStatus at 0x7f673a8ac9d0>"
            ]
          },
          "metadata": {},
          "execution_count": 33
        }
      ]
    },
    {
      "cell_type": "code",
      "source": [
        "!mkdir -p saved_model\n",
        "model.save('saved_model/siamese')"
      ],
      "metadata": {
        "colab": {
          "base_uri": "https://localhost:8080/"
        },
        "id": "hGb6rzV5pu1j",
        "outputId": "5db85b21-38f7-41d1-942b-8e0bce506d0c"
      },
      "execution_count": 22,
      "outputs": [
        {
          "output_type": "stream",
          "name": "stdout",
          "text": [
            "WARNING:tensorflow:Compiled the loaded model, but the compiled metrics have yet to be built. `model.compile_metrics` will be empty until you train or evaluate the model.\n",
            "INFO:tensorflow:Assets written to: saved_model/siamese/assets\n"
          ]
        }
      ]
    },
    {
      "cell_type": "code",
      "source": [
        "new_model = tf.keras.models.load_model('saved_model/siamese')"
      ],
      "metadata": {
        "colab": {
          "base_uri": "https://localhost:8080/"
        },
        "id": "rsukbnz4qqgL",
        "outputId": "7807537d-667d-4a58-c49f-09663188a97a"
      },
      "execution_count": 23,
      "outputs": [
        {
          "output_type": "stream",
          "name": "stdout",
          "text": [
            "WARNING:tensorflow:No training configuration found in save file, so the model was *not* compiled. Compile it manually.\n"
          ]
        }
      ]
    },
    {
      "cell_type": "code",
      "source": [
        "Set6_X1 = []\n",
        "Set6_X2 = []\n",
        "Set6_Y = []\n",
        "for i in range(9*int(data_x.shape[0]/10),10*int(data_x.shape[0]/10)):\n",
        "  for j in range(9*int(data_x.shape[0]/10),10*int(data_x.shape[0]/10)):\n",
        "    if(i!= j):\n",
        "      Set6_X1.append(data_x[i])\n",
        "      Set6_X2.append(data_x[j])\n",
        "      if(data_y[i] == data_y[j] and data_y[i] == 1):\n",
        "        Set6_Y.append(1)\n",
        "      else :\n",
        "        Set6_Y.append(0)\n",
        "set6_X1 = np.array(Set6_X1)\n",
        "set6_X2 = np.array(Set6_X2)\n",
        "set6_Y = np.array(Set6_Y)"
      ],
      "metadata": {
        "id": "Yu9MJA9auD-d"
      },
      "execution_count": 34,
      "outputs": []
    },
    {
      "cell_type": "code",
      "source": [
        "model.compile(optimizer='adam', loss= 'binary_crossentropy',metrics=['accuracy'])#loss= 'mse'\n",
        "evaluation = model.evaluate([set6_X1,set6_X2], set6_Y)\n",
        "print('Loss:', evaluation[0])\n",
        "print('Accuracy:', evaluation[1])"
      ],
      "metadata": {
        "colab": {
          "base_uri": "https://localhost:8080/"
        },
        "id": "0vidU_Zwqv7T",
        "outputId": "2d45611a-7f54-4d65-c3b9-5bfe3f18d458"
      },
      "execution_count": 36,
      "outputs": [
        {
          "output_type": "stream",
          "name": "stdout",
          "text": [
            "40/40 [==============================] - 18s 425ms/step - loss: 0.2202 - accuracy: 0.9317\n",
            "Loss: 0.220183864235878\n",
            "Accuracy: 0.9317460060119629\n"
          ]
        }
      ]
    },
    {
      "cell_type": "code",
      "source": [
        "evaluation = siamese_model.evaluate([set_X1,set_X2], set_Y)\n",
        "print('Loss:', evaluation[0])\n",
        "print('Accuracy:', evaluation[1])"
      ],
      "metadata": {
        "colab": {
          "base_uri": "https://localhost:8080/"
        },
        "id": "M4pwgADj14WE",
        "outputId": "297fcf4c-dac4-43f2-ade3-40eb5a8b317f"
      },
      "execution_count": 18,
      "outputs": [
        {
          "output_type": "stream",
          "name": "stdout",
          "text": [
            "165/165 [==============================] - 72s 433ms/step - loss: 0.0113 - accuracy: 1.0000\n",
            "Loss: 0.011265695095062256\n",
            "Accuracy: 1.0\n"
          ]
        }
      ]
    },
    {
      "cell_type": "code",
      "execution_count": null,
      "metadata": {
        "colab": {
          "base_uri": "https://localhost:8080/"
        },
        "id": "c_2f30qtJhxw",
        "outputId": "388e309b-a95f-4da7-bd83-99b688029785"
      },
      "outputs": [
        {
          "name": "stdout",
          "output_type": "stream",
          "text": [
            "(30, 20000, 1)\n"
          ]
        }
      ],
      "source": [
        "print(set_X1[5226:].shape)"
      ]
    },
    {
      "cell_type": "code",
      "execution_count": null,
      "metadata": {
        "colab": {
          "base_uri": "https://localhost:8080/"
        },
        "id": "7JH1kZ8iUG6r",
        "outputId": "0f1fe4a7-bb4a-413b-861a-978586c36b0e"
      },
      "outputs": [
        {
          "data": {
            "text/plain": [
              "KNeighborsClassifier(n_neighbors=19)"
            ]
          },
          "execution_count": 8,
          "metadata": {},
          "output_type": "execute_result"
        }
      ],
      "source": [
        "# Training the K-NN model on the Training set\n",
        "from sklearn.neighbors import KNeighborsClassifier\n",
        "classifier = KNeighborsClassifier(n_neighbors = 19, metric = 'minkowski', p = 2)\n",
        "classifier.fit(data_x, data_y)"
      ]
    },
    {
      "cell_type": "code",
      "execution_count": null,
      "metadata": {
        "colab": {
          "base_uri": "https://localhost:8080/",
          "height": 276
        },
        "id": "dn6fhxPyVH6o",
        "outputId": "f89279c7-7103-4fdc-9fe0-a7b4d6debf1f"
      },
      "outputs": [
        {
          "data": {
            "image/png": "[encoded data removed]",
            "text/plain": [
              "<Figure size 432x288 with 1 Axes>"
            ]
          },
          "metadata": {},
          "output_type": "display_data"
        }
      ],
      "source": [
        "wav2 = wave.open('/content/drive/MyDrive/Data Heart Beat/total data/sample_300.wav')\n",
        "rate, data = wav.read('/content/drive/MyDrive/Data Heart Beat/total data/sample_300.wav')\n",
        "\n",
        "##filtering Process \n",
        "fs = rate\n",
        "T = wav2.getnframes()/wav2.getframerate()\n",
        "N = nsamples = int(T * fs)\n",
        "t = np.linspace(0, T, nsamples, endpoint=False)\n",
        "\n",
        "\n",
        "lowcut = 20.0\n",
        "highcut = 250.0\n",
        "\n",
        "y = butter_bandpass(data,lowcut,highcut,fs)\n",
        "#plt.plot(t,y)\n",
        "#plt.show()\n",
        "\n",
        "fft_out = fft(y)\n",
        "%matplotlib inline\n",
        "xf = fftfreq(N, 1 / fs)\n",
        "plt.plot(xf, np.abs(fft_out))\n",
        "plt.show()"
      ]
    },
    {
      "cell_type": "code",
      "execution_count": null,
      "metadata": {
        "colab": {
          "base_uri": "https://localhost:8080/",
          "height": 531
        },
        "id": "R0UTgrG_Vof1",
        "outputId": "78e1b140-4891-467d-c8d9-92baa1c67c41"
      },
      "outputs": [
        {
          "name": "stdout",
          "output_type": "stream",
          "text": [
            "50.06167763157895 49.95888157894737\n"
          ]
        },
        {
          "data": {
            "image/png": "[encoded data removed]",
            "text/plain": [
              "<Figure size 432x288 with 1 Axes>"
            ]
          },
          "metadata": {},
          "output_type": "display_data"
        },
        {
          "data": {
            "image/png": "[encoded data removed]",
            "text/plain": [
              "<Figure size 432x288 with 1 Axes>"
            ]
          },
          "metadata": {},
          "output_type": "display_data"
        }
      ],
      "source": [
        "rxf = xf\n",
        "rate, data = wav.read('/content/drive/MyDrive/Data Heart Beat/total data/sample_300.wav')\n",
        "rfft_out = rfft(y)\n",
        "rfft_out2 = rfft(y)\n",
        "freq = xf[np.argmax(np.abs(rfft_out))]\n",
        "freq2 = xf[np.argsort(np.abs(rfft_out))[-2]]\n",
        "print(freq , freq2)\n",
        "# The maximum frequency is half the sample rate\n",
        "points_per_freq = len(rxf) / (fs / 2)\n",
        "\n",
        "# Our target frequency is freq Hz\n",
        "target_idx = int(points_per_freq * freq)\n",
        "rfft_out[-1000 : int(freq) -10] = 0\n",
        "rfft_out[int(freq) + 10 : 1000] = 0\n",
        "rfft_out2[-1000 : int(freq2) -5] = 0\n",
        "rfft_out2[int(freq2) + 5 : 1000] = 0\n",
        "\n",
        "new_sig1 = irfft(rfft_out)\n",
        "new_sig2 = irfft(rfft_out2)\n",
        "plt.plot(new_sig1)\n",
        "plt.show()\n",
        "plt.plot(data)\n",
        "plt.show()\n",
        "#plt.plot(xf, np.abs(fft_out))\n",
        "#plt.show()\n"
      ]
    },
    {
      "cell_type": "code",
      "execution_count": null,
      "metadata": {
        "colab": {
          "base_uri": "https://localhost:8080/"
        },
        "id": "2lpR-Z5fVukz",
        "outputId": "f2d9da4f-a32f-4ce0-fcc2-26125ae058a0"
      },
      "outputs": [
        {
          "name": "stdout",
          "output_type": "stream",
          "text": [
            "Sampling (frame) rate =  2000\n",
            "Total samples (frames) =  19456\n",
            "Duration =  9.728\n"
          ]
        }
      ],
      "source": [
        "import wave\n",
        "wav = wave.open('/content/drive/MyDrive/Data Heart Beat/total data/sample_300.wav')\n",
        "print(\"Sampling (frame) rate = \", wav.getframerate())\n",
        "print(\"Total samples (frames) = \", wav.getnframes())\n",
        "print(\"Duration = \", wav.getnframes()/wav.getframerate())"
      ]
    },
    {
      "cell_type": "code",
      "execution_count": null,
      "metadata": {
        "colab": {
          "base_uri": "https://localhost:8080/"
        },
        "id": "WSgxacBsVyJB",
        "outputId": "0d12052d-e626-4da4-9a73-639ac795a68c"
      },
      "outputs": [
        {
          "name": "stderr",
          "output_type": "stream",
          "text": [
            "/usr/local/lib/python3.7/dist-packages/librosa/filters.py:239: UserWarning: Empty filters detected in mel frequency basis. Some channels will produce empty responses. Try increasing your sampling rate (and fmax) or reducing n_mels.\n",
            "  \"Empty filters detected in mel frequency basis. \"\n"
          ]
        },
        {
          "data": {
            "text/plain": [
              "array([], dtype=float64)"
            ]
          },
          "execution_count": 24,
          "metadata": {},
          "output_type": "execute_result"
        }
      ],
      "source": [
        "#rate, data = wav.read('/content/drive/MyDrive/Data Heart Beat/total data/sample_300.wav')\n",
        "librosa.onset.onset_detect(y=y, sr=rate, units='time')"
      ]
    },
    {
      "cell_type": "code",
      "execution_count": null,
      "metadata": {
        "colab": {
          "base_uri": "https://localhost:8080/"
        },
        "id": "i85f-C-pV0vG",
        "outputId": "9b51dc2a-2500-42fd-ef2b-0b92f7f8d08b"
      },
      "outputs": [
        {
          "name": "stdout",
          "output_type": "stream",
          "text": [
            "[0.68266667 1.10933333 1.19466667 1.536      1.87733333 2.21866667\n",
            " 2.304      2.56      ]\n"
          ]
        },
        {
          "name": "stderr",
          "output_type": "stream",
          "text": [
            "/usr/local/lib/python3.7/dist-packages/librosa/filters.py:239: UserWarning: Empty filters detected in mel frequency basis. Some channels will produce empty responses. Try increasing your sampling rate (and fmax) or reducing n_mels.\n",
            "  \"Empty filters detected in mel frequency basis. \"\n"
          ]
        }
      ],
      "source": [
        "#rate, data = wav.read('/content/drive/MyDrive/Data Heart Beat/total data/sample_300.wav')\n",
        "\n",
        "# Get onset times from a signal\n",
        "onset_frames = librosa.onset.onset_detect(y=new_sig1, sr=rate*3)\n",
        "print(librosa.frames_to_time(onset_frames, sr=rate*3))\n"
      ]
    },
    {
      "cell_type": "code",
      "execution_count": null,
      "metadata": {
        "colab": {
          "base_uri": "https://localhost:8080/"
        },
        "id": "FOz_2vwFV3hQ",
        "outputId": "65d951cd-b68d-4141-b303-32f6b0be4413"
      },
      "outputs": [
        {
          "name": "stderr",
          "output_type": "stream",
          "text": [
            "/usr/local/lib/python3.7/dist-packages/librosa/filters.py:239: UserWarning: Empty filters detected in mel frequency basis. Some channels will produce empty responses. Try increasing your sampling rate (and fmax) or reducing n_mels.\n",
            "  \"Empty filters detected in mel frequency basis. \"\n"
          ]
        },
        {
          "name": "stdout",
          "output_type": "stream",
          "text": [
            "[ 2  7 12 16 21 25]\n"
          ]
        }
      ],
      "source": [
        "# use a pre-computed onset envelope\n",
        "o_env = librosa.onset.onset_strength(y=new_sig1, sr=rate)\n",
        "times = librosa.frames_to_time(np.arange(len(o_env)), sr=rate)\n",
        "onset_frames = librosa.onset.onset_detect(onset_envelope=o_env, sr=rate*3)\n",
        "\n",
        "# Detect events without backtracking\n",
        "onset_raw = librosa.onset.onset_detect(onset_envelope=o_env, backtrack=False)\n",
        "# Backtrack the events using the onset envelope\n",
        "onset_bt = librosa.onset.onset_backtrack(onset_raw, o_env)\n",
        "# Backtrack the events using the RMS values\n",
        "rms = librosa.feature.rms(S=np.abs(librosa.stft(y=new_sig1)))\n",
        "onset_bt_rms = librosa.onset.onset_backtrack(onset_raw, rms[0])\n",
        "print(onset_bt)"
      ]
    },
    {
      "cell_type": "code",
      "execution_count": null,
      "metadata": {
        "colab": {
          "base_uri": "https://localhost:8080/",
          "height": 498
        },
        "id": "pwr1glZ-V7ZI",
        "outputId": "3c9d1947-c8bf-4352-b6c7-3add5ae1bf3a"
      },
      "outputs": [
        {
          "ename": "NameError",
          "evalue": "ignored",
          "output_type": "error",
          "traceback": [
            "\u001b[0;31m---------------------------------------------------------------------------\u001b[0m",
            "\u001b[0;31mNameError\u001b[0m                                 Traceback (most recent call last)",
            "\u001b[0;32m<ipython-input-22-eff7440c0027>\u001b[0m in \u001b[0;36m<module>\u001b[0;34m()\u001b[0m\n\u001b[1;32m     10\u001b[0m \u001b[0mplt\u001b[0m\u001b[0;34m.\u001b[0m\u001b[0msubplot\u001b[0m\u001b[0;34m(\u001b[0m\u001b[0;36m2\u001b[0m\u001b[0;34m,\u001b[0m \u001b[0;36m1\u001b[0m\u001b[0;34m,\u001b[0m \u001b[0;36m2\u001b[0m\u001b[0;34m,\u001b[0m \u001b[0msharex\u001b[0m\u001b[0;34m=\u001b[0m\u001b[0max1\u001b[0m\u001b[0;34m)\u001b[0m\u001b[0;34m\u001b[0m\u001b[0;34m\u001b[0m\u001b[0m\n\u001b[1;32m     11\u001b[0m \u001b[0;34m\u001b[0m\u001b[0m\n\u001b[0;32m---> 12\u001b[0;31m \u001b[0mplt\u001b[0m\u001b[0;34m.\u001b[0m\u001b[0mplot\u001b[0m\u001b[0;34m(\u001b[0m\u001b[0mtimes\u001b[0m\u001b[0;34m,\u001b[0m \u001b[0mo_env\u001b[0m\u001b[0;34m,\u001b[0m \u001b[0mlabel\u001b[0m\u001b[0;34m=\u001b[0m\u001b[0;34m'Onset strength'\u001b[0m\u001b[0;34m)\u001b[0m\u001b[0;34m\u001b[0m\u001b[0;34m\u001b[0m\u001b[0m\n\u001b[0m\u001b[1;32m     13\u001b[0m \u001b[0mplt\u001b[0m\u001b[0;34m.\u001b[0m\u001b[0mvlines\u001b[0m\u001b[0;34m(\u001b[0m\u001b[0mtimes\u001b[0m\u001b[0;34m[\u001b[0m\u001b[0monset_frames\u001b[0m\u001b[0;34m]\u001b[0m\u001b[0;34m,\u001b[0m \u001b[0;36m0\u001b[0m\u001b[0;34m,\u001b[0m \u001b[0mo_env\u001b[0m\u001b[0;34m.\u001b[0m\u001b[0mmax\u001b[0m\u001b[0;34m(\u001b[0m\u001b[0;34m)\u001b[0m\u001b[0;34m,\u001b[0m \u001b[0mcolor\u001b[0m\u001b[0;34m=\u001b[0m\u001b[0;34m'r'\u001b[0m\u001b[0;34m,\u001b[0m \u001b[0malpha\u001b[0m\u001b[0;34m=\u001b[0m\u001b[0;36m0.9\u001b[0m\u001b[0;34m,\u001b[0m\u001b[0mlinestyle\u001b[0m\u001b[0;34m=\u001b[0m\u001b[0;34m'--'\u001b[0m\u001b[0;34m,\u001b[0m \u001b[0mlabel\u001b[0m\u001b[0;34m=\u001b[0m\u001b[0;34m'Onsets'\u001b[0m\u001b[0;34m)\u001b[0m\u001b[0;34m\u001b[0m\u001b[0;34m\u001b[0m\u001b[0m\n\u001b[1;32m     14\u001b[0m \u001b[0mplt\u001b[0m\u001b[0;34m.\u001b[0m\u001b[0mvlines\u001b[0m\u001b[0;34m(\u001b[0m\u001b[0mtimes\u001b[0m\u001b[0;34m[\u001b[0m\u001b[0monset_raw\u001b[0m\u001b[0;34m]\u001b[0m\u001b[0;34m,\u001b[0m \u001b[0;36m0\u001b[0m\u001b[0;34m,\u001b[0m \u001b[0mo_env\u001b[0m\u001b[0;34m.\u001b[0m\u001b[0mmax\u001b[0m\u001b[0;34m(\u001b[0m\u001b[0;34m)\u001b[0m\u001b[0;34m,\u001b[0m \u001b[0mlabel\u001b[0m\u001b[0;34m=\u001b[0m\u001b[0;34m'Raw onsets'\u001b[0m\u001b[0;34m,\u001b[0m\u001b[0malpha\u001b[0m\u001b[0;34m=\u001b[0m\u001b[0;36m0.9\u001b[0m\u001b[0;34m)\u001b[0m\u001b[0;34m\u001b[0m\u001b[0;34m\u001b[0m\u001b[0m\n",
            "\u001b[0;31mNameError\u001b[0m: name 'times' is not defined"
          ]
        },
        {
          "data": {
            "image/png": "[encoded data removed]",
            "text/plain": [
              "<Figure size 1800x432 with 2 Axes>"
            ]
          },
          "metadata": {},
          "output_type": "display_data"
        }
      ],
      "source": [
        "import matplotlib.pyplot as plt\n",
        "\n",
        "######################################################################\n",
        "# visualize it\n",
        "D = np.abs(librosa.stft(new_sig1))\n",
        "plt.figure(figsize=(25, 6))\n",
        "ax1 = plt.subplot(2, 1, 1)\n",
        "librosa.display.specshow(librosa.amplitude_to_db(D, ref=np.max),x_axis='time', y_axis='log')\n",
        "plt.title('Power spectrogram')\n",
        "plt.subplot(2, 1, 2, sharex=ax1)\n",
        "\n",
        "plt.plot(times, o_env, label='Onset strength')\n",
        "plt.vlines(times[onset_frames], 0, o_env.max(), color='r', alpha=0.9,linestyle='--', label='Onsets')\n",
        "plt.vlines(times[onset_raw], 0, o_env.max(), label='Raw onsets',alpha=0.9)\n",
        "plt.vlines(times[onset_bt], 0, o_env.max(), label='Backtracked', color='r',alpha=0.9)\n",
        "plt.axis('tight')\n",
        "\n",
        "plt.legend(frameon=True, framealpha=0.75)"
      ]
    },
    {
      "cell_type": "code",
      "execution_count": null,
      "metadata": {
        "id": "NPWEMvMFc6k9"
      },
      "outputs": [],
      "source": [
        "def onset(y,rate):\n",
        "\n",
        "\n",
        "  # Get onset times from a signal\n",
        "  onset_frames = librosa.onset.onset_detect(y=y, sr=rate*3)\n",
        "  #print(librosa.frames_to_time(onset_frames, sr=rate*3))\n",
        "  # use a pre-computed onset envelope\n",
        "  o_env = librosa.onset.onset_strength(y=y, sr=rate)\n",
        "  times = librosa.frames_to_time(np.arange(len(o_env)), sr=rate)\n",
        "  onset_frames = librosa.onset.onset_detect(onset_envelope=o_env, sr=rate*3)\n",
        "\n",
        "  # Detect events without backtracking\n",
        "  onset_raw = librosa.onset.onset_detect(onset_envelope=o_env, backtrack=False)\n",
        "  # Backtrack the events using the onset envelope\n",
        "  onset_bt = librosa.onset.onset_backtrack(onset_raw, o_env)\n",
        "  # Backtrack the events using the RMS values\n",
        "  rms = librosa.feature.rms(S=np.abs(librosa.stft(y=y)))\n",
        "  onset_bt_rms = librosa.onset.onset_backtrack(onset_raw, rms[0])\n",
        "  return times,onset_bt\n",
        "  "
      ]
    },
    {
      "cell_type": "code",
      "execution_count": null,
      "metadata": {
        "id": "w3sKh50JhPa8"
      },
      "outputs": [],
      "source": [
        "def fft1(y,rate,N):\n",
        "  xf = fftfreq(N, 1 / rate)\n",
        "  rxf = xf\n",
        "  rfft_out = rfft(y)\n",
        "  rfft_out2 = rfft(y)\n",
        "  freq = xf[np.argmax(np.abs(rfft_out))]\n",
        "  freq2 = xf[np.argsort(np.abs(rfft_out))[-2]]\n",
        "  #print(freq , freq2)\n",
        "  # The maximum frequency is half the sample rate\n",
        "  points_per_freq = len(rxf) / (fs / 2)\n",
        "\n",
        "  # Our target frequency is freq Hz\n",
        "  target_idx = int(points_per_freq * freq)\n",
        "  rfft_out[-1000 : int(freq) -10] = 0\n",
        "  rfft_out[int(freq) + 10 : 1000] = 0\n",
        "  rfft_out2[-1000 : int(freq2) -5] = 0\n",
        "  rfft_out2[int(freq2) + 5 : 1000] = 0\n",
        "\n",
        "  new_sig1 = irfft(rfft_out)\n",
        "  new_sig2 = irfft(rfft_out2)\n",
        "  return new_sig1\n",
        "  #plt.plot(xf, np.abs(fft_out))\n",
        "  #plt.show()\n"
      ]
    },
    {
      "cell_type": "code",
      "execution_count": null,
      "metadata": {
        "colab": {
          "base_uri": "https://localhost:8080/"
        },
        "id": "KP3bo7WdV_dF",
        "outputId": "e0762fdb-cfb5-43da-c97d-87ff654a3fe6"
      },
      "outputs": [
        {
          "name": "stdout",
          "output_type": "stream",
          "text": [
            "#########################0######################################\n"
          ]
        },
        {
          "name": "stderr",
          "output_type": "stream",
          "text": [
            "/usr/local/lib/python3.7/dist-packages/librosa/filters.py:239: UserWarning: Empty filters detected in mel frequency basis. Some channels will produce empty responses. Try increasing your sampling rate (and fmax) or reducing n_mels.\n",
            "  \"Empty filters detected in mel frequency basis. \"\n"
          ]
        },
        {
          "name": "stdout",
          "output_type": "stream",
          "text": [
            "90\n",
            "#########################10######################################\n",
            "90\n",
            "#########################20######################################\n",
            "90\n",
            "#########################30######################################\n",
            "90\n",
            "#########################40######################################\n",
            "90\n",
            "#########################50######################################\n",
            "90\n",
            "#########################60######################################\n",
            "90\n",
            "#########################70######################################\n",
            "90\n",
            "#########################80######################################\n",
            "90\n",
            "#########################90######################################\n",
            "90\n",
            "#########################100######################################\n",
            "90\n",
            "#########################110######################################\n",
            "90\n",
            "#########################120######################################\n",
            "90\n",
            "#########################130######################################\n",
            "90\n",
            "#########################140######################################\n",
            "90\n",
            "#########################150######################################\n",
            "90\n",
            "#########################160######################################\n",
            "90\n",
            "#########################170######################################\n",
            "90\n",
            "#########################180######################################\n",
            "90\n",
            "#########################190######################################\n",
            "90\n",
            "#########################200######################################\n",
            "90\n",
            "#########################210######################################\n",
            "90\n",
            "#########################220######################################\n",
            "90\n",
            "#########################230######################################\n",
            "90\n",
            "#########################240######################################\n",
            "90\n",
            "#########################250######################################\n",
            "90\n",
            "#########################260######################################\n",
            "90\n",
            "#########################270######################################\n",
            "90\n",
            "#########################280######################################\n",
            "90\n",
            "#########################290######################################\n",
            "90\n",
            "#########################300######################################\n",
            "90\n",
            "#########################310######################################\n",
            "90\n",
            "#########################320######################################\n",
            "90\n",
            "#########################330######################################\n",
            "90\n",
            "#########################340######################################\n",
            "90\n",
            "#########################350######################################\n",
            "90\n",
            "#########################360######################################\n",
            "90\n",
            "#########################370######################################\n",
            "90\n",
            "#########################380######################################\n",
            "90\n",
            "#########################390######################################\n",
            "90\n",
            "#########################400######################################\n",
            "90\n",
            "#########################410######################################\n",
            "90\n",
            "#########################420######################################\n",
            "90\n",
            "#########################430######################################\n",
            "90\n",
            "#########################440######################################\n",
            "90\n",
            "#########################450######################################\n",
            "90\n",
            "#########################460######################################\n",
            "90\n",
            "#########################470######################################\n",
            "90\n",
            "#########################480######################################\n",
            "90\n",
            "#########################490######################################\n",
            "90\n",
            "(35, 20000)\n"
          ]
        }
      ],
      "source": [
        "t_data_y = []\n",
        "\n",
        "for j in range(50):\n",
        "  t_data_x = []\n",
        "  print(\"#########################\"+str(j*10)+\"######################################\")\n",
        "  data, sampling_rate = librosa.load('/content/drive/MyDrive/Data Heart Beat/total data/sample_'+str(j*10)+'.wav')\n",
        "  wav = wave.open('/content/drive/MyDrive/Data Heart Beat/total data/sample_'+str(j*10)+'.wav')\n",
        "  data_BPF = butter_bandpass(data,lowcut,highcut,sampling_rate)\n",
        "  N = wav.getnframes()\n",
        "  data_FFT = fft1(data_BPF,sampling_rate,N)\n",
        "  times , onset_bt = onset(data_FFT,sampling_rate)\n",
        "  for i in range(0, len(onset_bt) ):\n",
        "    try: \n",
        "      temp_data = data_BPF[int(times[onset_bt[i]]*sampling_rate ):int(times[onset_bt[i+1]]*sampling_rate) ]\n",
        "      t_data_x.append(temp_data)\n",
        "    except:\n",
        "      pass\n",
        "  t_data_x = pad_sequences(t_data_x, maxlen=20000, dtype='float', padding='post', truncating='post', value=0.)\n",
        "  #t_data_x = t_data_x / np.max(t_data_x)\n",
        "  y_pred = classifier.predict(t_data_x)\n",
        "  print(y_pred)\n",
        "  data_y = np.concatenate((data_y, y_pred))\n",
        "  data_x = np.concatenate((data_x, t_data_x))\n",
        "\n",
        "#t_data_x.append(temp_data)\n",
        "#temp_data = data[int(times[onset_bt[4]]*sampling_rate ):int(times[onset_bt[5]]*sampling_rate )]\n",
        "#t_data_x.append(temp_data)\n",
        "\n",
        "\n",
        "#t_data_x = t_data_x[:,np.newaxis]\n",
        "print(t_data_x.shape)\n"
      ]
    },
    {
      "cell_type": "code",
      "execution_count": null,
      "metadata": {
        "colab": {
          "base_uri": "https://localhost:8080/"
        },
        "id": "OnXgCWGIkVY8",
        "outputId": "997499c2-27b6-4cf0-a121-c51c612dcbec"
      },
      "outputs": [
        {
          "name": "stdout",
          "output_type": "stream",
          "text": [
            "(369, 20000, 1, 1)\n",
            "(369,)\n"
          ]
        }
      ],
      "source": [
        "data_x = data_x[:,:,np.newaxis]\n",
        "\n",
        "print(data_x.shape)\n",
        "print(data_y.shape)"
      ]
    },
    {
      "cell_type": "code",
      "execution_count": null,
      "metadata": {
        "colab": {
          "base_uri": "https://localhost:8080/",
          "height": 415
        },
        "id": "89tBkL2hia4_",
        "outputId": "65148fbc-aa0d-4767-9f59-b6ef3fe2c824"
      },
      "outputs": [
        {
          "ename": "ValueError",
          "evalue": "ignored",
          "output_type": "error",
          "traceback": [
            "\u001b[0;31m---------------------------------------------------------------------------\u001b[0m",
            "\u001b[0;31mValueError\u001b[0m                                Traceback (most recent call last)",
            "\u001b[0;32m<ipython-input-28-83472ff9398a>\u001b[0m in \u001b[0;36m<module>\u001b[0;34m()\u001b[0m\n\u001b[1;32m      5\u001b[0m \u001b[0mmodel\u001b[0m\u001b[0;34m.\u001b[0m\u001b[0madd\u001b[0m\u001b[0;34m(\u001b[0m\u001b[0mInputLayer\u001b[0m\u001b[0;34m(\u001b[0m\u001b[0minput_shape\u001b[0m\u001b[0;34m=\u001b[0m\u001b[0mdata_x\u001b[0m\u001b[0;34m.\u001b[0m\u001b[0mshape\u001b[0m\u001b[0;34m[\u001b[0m\u001b[0;36m1\u001b[0m\u001b[0;34m:\u001b[0m\u001b[0;34m]\u001b[0m\u001b[0;34m)\u001b[0m\u001b[0;34m)\u001b[0m\u001b[0;34m\u001b[0m\u001b[0;34m\u001b[0m\u001b[0m\n\u001b[1;32m      6\u001b[0m \u001b[0;34m\u001b[0m\u001b[0m\n\u001b[0;32m----> 7\u001b[0;31m \u001b[0mmodel\u001b[0m\u001b[0;34m.\u001b[0m\u001b[0madd\u001b[0m\u001b[0;34m(\u001b[0m\u001b[0mConv1D\u001b[0m\u001b[0;34m(\u001b[0m\u001b[0mfilters\u001b[0m\u001b[0;34m=\u001b[0m\u001b[0;36m50\u001b[0m\u001b[0;34m,\u001b[0m \u001b[0mkernel_size\u001b[0m\u001b[0;34m=\u001b[0m\u001b[0;36m10\u001b[0m\u001b[0;34m,\u001b[0m \u001b[0mactivation\u001b[0m\u001b[0;34m=\u001b[0m\u001b[0;34m'relu'\u001b[0m\u001b[0;34m)\u001b[0m\u001b[0;34m)\u001b[0m\u001b[0;34m\u001b[0m\u001b[0;34m\u001b[0m\u001b[0m\n\u001b[0m\u001b[1;32m      8\u001b[0m \u001b[0mmodel\u001b[0m\u001b[0;34m.\u001b[0m\u001b[0madd\u001b[0m\u001b[0;34m(\u001b[0m\u001b[0mMaxPool1D\u001b[0m\u001b[0;34m(\u001b[0m\u001b[0mstrides\u001b[0m\u001b[0;34m=\u001b[0m\u001b[0;36m8\u001b[0m\u001b[0;34m)\u001b[0m\u001b[0;34m)\u001b[0m\u001b[0;34m\u001b[0m\u001b[0;34m\u001b[0m\u001b[0m\n\u001b[1;32m      9\u001b[0m \u001b[0mmodel\u001b[0m\u001b[0;34m.\u001b[0m\u001b[0madd\u001b[0m\u001b[0;34m(\u001b[0m\u001b[0mConv1D\u001b[0m\u001b[0;34m(\u001b[0m\u001b[0mfilters\u001b[0m\u001b[0;34m=\u001b[0m\u001b[0;36m50\u001b[0m\u001b[0;34m,\u001b[0m \u001b[0mkernel_size\u001b[0m\u001b[0;34m=\u001b[0m\u001b[0;36m10\u001b[0m\u001b[0;34m,\u001b[0m \u001b[0mactivation\u001b[0m\u001b[0;34m=\u001b[0m\u001b[0;34m'relu'\u001b[0m\u001b[0;34m)\u001b[0m\u001b[0;34m)\u001b[0m\u001b[0;34m\u001b[0m\u001b[0;34m\u001b[0m\u001b[0m\n",
            "\u001b[0;32m/usr/local/lib/python3.7/dist-packages/tensorflow/python/training/tracking/base.py\u001b[0m in \u001b[0;36m_method_wrapper\u001b[0;34m(self, *args, **kwargs)\u001b[0m\n\u001b[1;32m    528\u001b[0m     \u001b[0mself\u001b[0m\u001b[0;34m.\u001b[0m\u001b[0m_self_setattr_tracking\u001b[0m \u001b[0;34m=\u001b[0m \u001b[0;32mFalse\u001b[0m  \u001b[0;31m# pylint: disable=protected-access\u001b[0m\u001b[0;34m\u001b[0m\u001b[0;34m\u001b[0m\u001b[0m\n\u001b[1;32m    529\u001b[0m     \u001b[0;32mtry\u001b[0m\u001b[0;34m:\u001b[0m\u001b[0;34m\u001b[0m\u001b[0;34m\u001b[0m\u001b[0m\n\u001b[0;32m--> 530\u001b[0;31m       \u001b[0mresult\u001b[0m \u001b[0;34m=\u001b[0m \u001b[0mmethod\u001b[0m\u001b[0;34m(\u001b[0m\u001b[0mself\u001b[0m\u001b[0;34m,\u001b[0m \u001b[0;34m*\u001b[0m\u001b[0margs\u001b[0m\u001b[0;34m,\u001b[0m \u001b[0;34m**\u001b[0m\u001b[0mkwargs\u001b[0m\u001b[0;34m)\u001b[0m\u001b[0;34m\u001b[0m\u001b[0;34m\u001b[0m\u001b[0m\n\u001b[0m\u001b[1;32m    531\u001b[0m     \u001b[0;32mfinally\u001b[0m\u001b[0;34m:\u001b[0m\u001b[0;34m\u001b[0m\u001b[0;34m\u001b[0m\u001b[0m\n\u001b[1;32m    532\u001b[0m       \u001b[0mself\u001b[0m\u001b[0;34m.\u001b[0m\u001b[0m_self_setattr_tracking\u001b[0m \u001b[0;34m=\u001b[0m \u001b[0mprevious_value\u001b[0m  \u001b[0;31m# pylint: disable=protected-access\u001b[0m\u001b[0;34m\u001b[0m\u001b[0;34m\u001b[0m\u001b[0m\n",
            "\u001b[0;32m/usr/local/lib/python3.7/dist-packages/keras/utils/traceback_utils.py\u001b[0m in \u001b[0;36merror_handler\u001b[0;34m(*args, **kwargs)\u001b[0m\n\u001b[1;32m     65\u001b[0m     \u001b[0;32mexcept\u001b[0m \u001b[0mException\u001b[0m \u001b[0;32mas\u001b[0m \u001b[0me\u001b[0m\u001b[0;34m:\u001b[0m  \u001b[0;31m# pylint: disable=broad-except\u001b[0m\u001b[0;34m\u001b[0m\u001b[0;34m\u001b[0m\u001b[0m\n\u001b[1;32m     66\u001b[0m       \u001b[0mfiltered_tb\u001b[0m \u001b[0;34m=\u001b[0m \u001b[0m_process_traceback_frames\u001b[0m\u001b[0;34m(\u001b[0m\u001b[0me\u001b[0m\u001b[0;34m.\u001b[0m\u001b[0m__traceback__\u001b[0m\u001b[0;34m)\u001b[0m\u001b[0;34m\u001b[0m\u001b[0;34m\u001b[0m\u001b[0m\n\u001b[0;32m---> 67\u001b[0;31m       \u001b[0;32mraise\u001b[0m \u001b[0me\u001b[0m\u001b[0;34m.\u001b[0m\u001b[0mwith_traceback\u001b[0m\u001b[0;34m(\u001b[0m\u001b[0mfiltered_tb\u001b[0m\u001b[0;34m)\u001b[0m \u001b[0;32mfrom\u001b[0m \u001b[0;32mNone\u001b[0m\u001b[0;34m\u001b[0m\u001b[0;34m\u001b[0m\u001b[0m\n\u001b[0m\u001b[1;32m     68\u001b[0m     \u001b[0;32mfinally\u001b[0m\u001b[0;34m:\u001b[0m\u001b[0;34m\u001b[0m\u001b[0;34m\u001b[0m\u001b[0m\n\u001b[1;32m     69\u001b[0m       \u001b[0;32mdel\u001b[0m \u001b[0mfiltered_tb\u001b[0m\u001b[0;34m\u001b[0m\u001b[0;34m\u001b[0m\u001b[0m\n",
            "\u001b[0;32m/usr/local/lib/python3.7/dist-packages/keras/layers/convolutional.py\u001b[0m in \u001b[0;36mcompute_output_shape\u001b[0;34m(self, input_shape)\u001b[0m\n\u001b[1;32m    301\u001b[0m     \u001b[0;32mexcept\u001b[0m \u001b[0mValueError\u001b[0m\u001b[0;34m:\u001b[0m\u001b[0;34m\u001b[0m\u001b[0;34m\u001b[0m\u001b[0m\n\u001b[1;32m    302\u001b[0m       raise ValueError(\n\u001b[0;32m--> 303\u001b[0;31m           \u001b[0;34mf'One of the dimensions in the output is <= 0 '\u001b[0m\u001b[0;34m\u001b[0m\u001b[0;34m\u001b[0m\u001b[0m\n\u001b[0m\u001b[1;32m    304\u001b[0m           \u001b[0;34mf'due to downsampling in {self.name}. Consider '\u001b[0m\u001b[0;34m\u001b[0m\u001b[0;34m\u001b[0m\u001b[0m\n\u001b[1;32m    305\u001b[0m           \u001b[0;34mf'increasing the input size. '\u001b[0m\u001b[0;34m\u001b[0m\u001b[0;34m\u001b[0m\u001b[0m\n",
            "\u001b[0;31mValueError\u001b[0m: One of the dimensions in the output is <= 0 due to downsampling in conv1d_4. Consider increasing the input size. Received input shape [None, 20000, 1, 1] which would produce output shape with a zero or negative value in a dimension."
          ]
        }
      ],
      "source": [
        "from keras.layers import InputLayer, Conv1D, Dense, Flatten, MaxPool1D\n",
        "from keras.models import Sequential\n",
        "model = Sequential()\n",
        "\n",
        "model.add(InputLayer(input_shape=data_x.shape[1:]))\n",
        "\n",
        "model.add(Conv1D(filters=50, kernel_size=10, activation='relu'))\n",
        "model.add(MaxPool1D(strides=8))\n",
        "model.add(Conv1D(filters=50, kernel_size=10, activation='relu'))\n",
        "model.add(MaxPool1D(strides=8))\n",
        "model.add(Flatten())\n",
        "model.add(Dense(units=1, activation='softmax'))\n",
        "\n",
        "model.compile(optimizer='adam', loss='binary_crossentropy', metrics=['accuracy'])"
      ]
    },
    {
      "cell_type": "code",
      "execution_count": null,
      "metadata": {
        "colab": {
          "base_uri": "https://localhost:8080/"
        },
        "id": "1tiKyn3vimH9",
        "outputId": "ea3352de-c639-44a3-aca1-09c4afa9ee0e"
      },
      "outputs": [
        {
          "name": "stdout",
          "output_type": "stream",
          "text": [
            "Epoch 1/3\n",
            "60/60 [==============================] - 37s 607ms/step - loss: 0.5762 - accuracy: 0.2452\n",
            "Epoch 2/3\n",
            "60/60 [==============================] - 36s 608ms/step - loss: 0.5414 - accuracy: 0.2452\n",
            "Epoch 3/3\n",
            "60/60 [==============================] - 36s 604ms/step - loss: 0.5142 - accuracy: 0.2452\n"
          ]
        },
        {
          "data": {
            "text/plain": [
              "<keras.callbacks.History at 0x7f88385bf490>"
            ]
          },
          "execution_count": 52,
          "metadata": {},
          "output_type": "execute_result"
        }
      ],
      "source": [
        "model.fit(data_x, data_y, batch_size=32, epochs=3)\n"
      ]
    }
  ],
  "metadata": {
    "colab": {
      "name": "Siamese and KNN",
      "provenance": [],
      "collapsed_sections": [],
      "include_colab_link": true
    },
    "kernelspec": {
      "display_name": "Python 3",
      "name": "python3"
    },
    "language_info": {
      "name": "python"
    },
    "accelerator": "TPU"
  },
  "nbformat": 4,
  "nbformat_minor": 0
}